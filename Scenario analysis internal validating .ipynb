{
 "cells": [
  {
   "cell_type": "markdown",
   "metadata": {},
   "source": [
    "# Experiment analysis"
   ]
  },
  {
   "cell_type": "code",
   "execution_count": 10,
   "metadata": {
    "collapsed": true
   },
   "outputs": [],
   "source": [
    "import pandas as pd\n",
    "import numpy as np\n",
    "from functools import reduce\n",
    "#import seaborn as sns\n",
    "%matplotlib inline"
   ]
  },
  {
   "cell_type": "code",
   "execution_count": 4,
   "metadata": {},
   "outputs": [],
   "source": [
    "#80_30_0 means \n",
    "#80=amount of aicrafts at peak times\n",
    "#30=percentage of bulk\n",
    "#0=percentage no show\n",
    "\n",
    "\n",
    "alternative=\"180615_variance_80bulk30_show30_extra3_prio2\"\n",
    "nr_replications=20\n",
    "dic80_30_30={}\n",
    "dic80_30_0={}\n",
    "dic80_0_30={}\n",
    "dic80_0_0={}\n",
    "# dic60_30_30={}\n",
    "# dic60_30_0={}\n",
    "# dic60_0_30={}\n",
    "# dic60_0_0={}\n",
    "for i in range(1,nr_replications+1):\n",
    "    j=str(i)\n",
    "    dic_key=\"rep\"+j\n",
    "    dic80_30_30[dic_key]=pd.read_excel(\"model_output_basicmodel_80bulk30_show30_extra3+prio2_Rep\"+j+\".xlsx\")\n",
    "    #dic80_30_0[dic_key]=pd.read_excel(\"model_output_basicmodel_80bulk30_show0_extra3+prio2_Rep\"+j+\".xlsx\")\n",
    "    #dic80_0_30[dic_key]=pd.read_excel(\"model_output_basicmodel_80bulk0_show30_extra3+prio2_Rep\"+j+\".xlsx\")\n",
    "    #dic80_0_0[dic_key]=pd.read_excel(\"model_output_basicmodel_80bulk0_show0_extra3+prio2_Rep\"+j+\".xlsx\")\n",
    "#     dic60_30_30[dic_key]=pd.read_excel(\"model_output_basicmodel_60bulk30_show30_Rep\"+j+\".xlsx\")\n",
    "#     dic60_30_0[dic_key]=pd.read_excel(\"model_output_basicmodel_60bulk30_show0_Rep\"+j+\".xlsx\")\n",
    "#     dic60_0_30[dic_key]=pd.read_excel(\"model_output_basicmodel_60bulk0_show30_Rep\"+j+\".xlsx\")\n",
    "#     dic60_0_0[dic_key]=pd.read_excel(\"model_output_basicmodel_60bulk0_show0_Rep\"+j+\".xlsx\")"
   ]
  },
  {
   "cell_type": "code",
   "execution_count": 5,
   "metadata": {
    "collapsed": true
   },
   "outputs": [],
   "source": [
    "df_concat=pd.concat(dic80_30_30)"
   ]
  },
  {
   "cell_type": "code",
   "execution_count": 7,
   "metadata": {
    "collapsed": true
   },
   "outputs": [],
   "source": [
    "dic_all={\"dic80_30_30\":dic80_30_30}\n",
    "#dic_all={\"dic80_30_30\":dic80_30_30, \"dic80_30_0\": dic80_30_0, \"dic80_0_30\": dic80_0_30, \"dic80_0_0\": dic80_0_0} #normal graph\n",
    "#dic_all={\"dic80_30_30\":dic80_30_30, \"dic80_30_0\": dic80_30_0, \"dic80_0_30\": dic80_0_30}#, \"dic80_0_0\": dic80_0_0} #60-80-100 input\n",
    "#dic_all={\"dic80_30_30\":dic60_30_30, \"dic80_30_0\": dic60_30_0, \"dic80_0_30\": dic60_0_30, \"dic80_0_0\": dic60_0_0} 60 input"
   ]
  },
  {
   "cell_type": "code",
   "execution_count": 9,
   "metadata": {},
   "outputs": [
    {
     "ename": "NameError",
     "evalue": "name 'df_test1' is not defined",
     "output_type": "error",
     "traceback": [
      "\u001b[1;31m---------------------------------------------------------------------------\u001b[0m",
      "\u001b[1;31mNameError\u001b[0m                                 Traceback (most recent call last)",
      "\u001b[1;32m<ipython-input-9-afc4e4ed1c8f>\u001b[0m in \u001b[0;36m<module>\u001b[1;34m()\u001b[0m\n\u001b[0;32m      1\u001b[0m \u001b[0mdic_final\u001b[0m\u001b[1;33m=\u001b[0m\u001b[1;33m{\u001b[0m\u001b[1;33m}\u001b[0m\u001b[1;33m\u001b[0m\u001b[0m\n\u001b[1;32m----> 2\u001b[1;33m \u001b[0mdf_test1\u001b[0m\u001b[1;33m\u001b[0m\u001b[0m\n\u001b[0m\u001b[0;32m      3\u001b[0m \u001b[1;32mfor\u001b[0m \u001b[0mkey\u001b[0m\u001b[1;33m,\u001b[0m \u001b[0mvalues\u001b[0m \u001b[1;32min\u001b[0m \u001b[0mdic_all\u001b[0m\u001b[1;33m.\u001b[0m\u001b[0mitems\u001b[0m\u001b[1;33m(\u001b[0m\u001b[1;33m)\u001b[0m\u001b[1;33m:\u001b[0m\u001b[1;33m\u001b[0m\u001b[0m\n\u001b[0;32m      4\u001b[0m     \u001b[0mdf_concat\u001b[0m\u001b[1;33m=\u001b[0m\u001b[0mpd\u001b[0m\u001b[1;33m.\u001b[0m\u001b[0mconcat\u001b[0m\u001b[1;33m(\u001b[0m\u001b[0mvalues\u001b[0m\u001b[1;33m.\u001b[0m\u001b[0mvalues\u001b[0m\u001b[1;33m(\u001b[0m\u001b[1;33m)\u001b[0m\u001b[1;33m)\u001b[0m\u001b[1;33m\u001b[0m\u001b[0m\n\u001b[0;32m      5\u001b[0m     \u001b[0mby_row_index\u001b[0m\u001b[1;33m=\u001b[0m\u001b[0mdf_concat\u001b[0m\u001b[1;33m.\u001b[0m\u001b[0mgroupby\u001b[0m\u001b[1;33m(\u001b[0m\u001b[0mdf_concat\u001b[0m\u001b[1;33m.\u001b[0m\u001b[0mindex\u001b[0m\u001b[1;33m)\u001b[0m\u001b[1;33m\u001b[0m\u001b[0m\n",
      "\u001b[1;31mNameError\u001b[0m: name 'df_test1' is not defined"
     ]
    }
   ],
   "source": [
    "dic_final={}\n",
    "df_test1=pd. \n",
    "for key, values in dic_all.items():\n",
    "    df_concat=pd.concat(values.values())\n",
    "    by_row_index=df_concat.groupby(df_concat.index)\n",
    "    df_test1=by_row_index\n",
    "    df_means=by_row_index.mean()\n",
    "    dic_final[key]=df_means\n",
    "    column_list=[]\n",
    "    for i in dic_final[key].columns:\n",
    "        j=i+\"_\"+key\n",
    "        column_list.append(j)\n",
    "    dic_final[key].columns=column_list"
   ]
  },
  {
   "cell_type": "code",
   "execution_count": null,
   "metadata": {
    "collapsed": true
   },
   "outputs": [],
   "source": []
  },
  {
   "cell_type": "code",
   "execution_count": null,
   "metadata": {},
   "outputs": [],
   "source": [
    "dfs=[]\n",
    "for key, values in dic_final.items():\n",
    "    dfs.append(values)  \n",
    "df_final = reduce(lambda left,right: pd.merge(left,right, left_index=True, right_index=True ,how='outer'), dfs)\n",
    "df_final[\"Time\"]=df_final['Time_dic80_30_30']/24\n",
    "x_steps=df_final.shape[0]\n",
    "x_steps"
   ]
  },
  {
   "cell_type": "code",
   "execution_count": null,
   "metadata": {},
   "outputs": [],
   "source": [
    "df_final[1:5] "
   ]
  },
  {
   "cell_type": "code",
   "execution_count": null,
   "metadata": {
    "collapsed": true
   },
   "outputs": [],
   "source": [
    "df_final2=df_final[:]"
   ]
  },
  {
   "cell_type": "code",
   "execution_count": null,
   "metadata": {
    "collapsed": true
   },
   "outputs": [],
   "source": [
    "df_final2[['dockselection_processed_dic80_30_30',\n",
    "       'unloading_processed_dic80_30_30', 'warehouse_processed_dic80_30_30']]=df_final2[['dockselection_processed_dic80_30_30',\n",
    "       'unloading_processed_dic80_30_30', 'warehouse_processed_dic80_30_30']]*2.5\n",
    "df_final2[['cargo_at_taxilane_dic80_30_30', 'carg_at_docks_dic80_30_30',\n",
    "       'cargo_at_dolly_unloading_dic80_30_30',\n",
    "       'cargo_at_breakdwon_dic80_30_30', 'cargo_stored_dic80_30_30',\n",
    "       'cargo_at_truck_dock_dic80_30_30', 'cargo_at_warehouse_dic80_30_30']]=df_final2[['cargo_at_taxilane_dic80_30_30', 'carg_at_docks_dic80_30_30',\n",
    "       'cargo_at_dolly_unloading_dic80_30_30',\n",
    "       'cargo_at_breakdwon_dic80_30_30', 'cargo_stored_dic80_30_30',\n",
    "       'cargo_at_truck_dock_dic80_30_30', 'cargo_at_warehouse_dic80_30_30']]*2.5\n",
    "\n",
    "\n",
    "df_final2[['dockselection_processed_dic80_30_0',\n",
    "       'unloading_processed_dic80_30_0', 'warehouse_processed_dic80_30_0']]=df_final2[['dockselection_processed_dic80_30_0',\n",
    "       'unloading_processed_dic80_30_0', 'warehouse_processed_dic80_30_0']]*2.5\n",
    "df_final2[['cargo_at_taxilane_dic80_30_0', 'carg_at_docks_dic80_30_0',\n",
    "       'cargo_at_dolly_unloading_dic80_30_0', 'cargo_at_breakdwon_dic80_30_0',\n",
    "       'cargo_stored_dic80_30_0', 'cargo_at_truck_dock_dic80_30_0',\n",
    "       'cargo_at_warehouse_dic80_30_0']]=df_final2[['cargo_at_taxilane_dic80_30_0', 'carg_at_docks_dic80_30_0',\n",
    "       'cargo_at_dolly_unloading_dic80_30_0', 'cargo_at_breakdwon_dic80_30_0',\n",
    "       'cargo_stored_dic80_30_0', 'cargo_at_truck_dock_dic80_30_0',\n",
    "       'cargo_at_warehouse_dic80_30_0']]*2.5\n",
    "\n",
    "df_final2[['dockselection_processed_dic80_0_30',\n",
    "       'unloading_processed_dic80_0_30', 'warehouse_processed_dic80_0_30']]=df_final2[['dockselection_processed_dic80_0_30',\n",
    "       'unloading_processed_dic80_0_30', 'warehouse_processed_dic80_0_30']]*2.5\n",
    "df_final2[['cargo_at_taxilane_dic80_0_30', 'carg_at_docks_dic80_0_30',\n",
    "       'cargo_at_dolly_unloading_dic80_0_30',\n",
    "       'cargo_at_breakdwon_dic80_0_30', 'cargo_stored_dic80_0_30',\n",
    "       'cargo_at_truck_dock_dic80_0_30', 'cargo_at_warehouse_dic80_0_30']]=df_final2[['cargo_at_taxilane_dic80_0_30', 'carg_at_docks_dic80_0_30',\n",
    "       'cargo_at_dolly_unloading_dic80_0_30',\n",
    "       'cargo_at_breakdwon_dic80_0_30', 'cargo_stored_dic80_0_30',\n",
    "       'cargo_at_truck_dock_dic80_0_30', 'cargo_at_warehouse_dic80_0_30']]*2.5\n",
    "\n",
    "\n",
    "df_final2[['dockselection_processed_dic80_0_0',\n",
    "       'unloading_processed_dic80_0_0', 'warehouse_processed_dic80_0_0']]=df_final2[['dockselection_processed_dic80_0_0',\n",
    "       'unloading_processed_dic80_0_0', 'warehouse_processed_dic80_0_0']]*2.5\n",
    "df_final2[['cargo_at_taxilane_dic80_0_0', 'carg_at_docks_dic80_0_0',\n",
    "       'cargo_at_dolly_unloading_dic80_0_0',\n",
    "       'cargo_at_breakdwon_dic80_0_0', 'cargo_stored_dic80_0_0',\n",
    "       'cargo_at_truck_dock_dic80_0_0', 'cargo_at_warehouse_dic80_0_0']]=df_final2[['cargo_at_taxilane_dic80_0_0', 'carg_at_docks_dic80_0_0',\n",
    "       'cargo_at_dolly_unloading_dic80_0_0',\n",
    "       'cargo_at_breakdwon_dic80_0_0', 'cargo_stored_dic80_0_0',\n",
    "       'cargo_at_truck_dock_dic80_0_0', 'cargo_at_warehouse_dic80_0_0']]*2.5\n",
    "\n",
    "# df_final2.loc[:,\"dockselection_processed_dic80_30_30\":\"warehouse_processed_dic80_30_30\"]=df_final.loc[:,\"dockselection_processed_dic80_30_30\":\"warehouse_processed_dic80_30_30\"]*2.5\n",
    "# df_final2.loc[:,\"cargo_at_taxilane_dic80_30_30\":\"cargo_at_warehouse_dic80_30_30\"]=df_final.loc[:,\"cargo_at_taxilane_dic80_30_30\":\"cargo_at_warehouse_dic80_30_30\"]*2.5\n",
    "\n",
    "# df_final2.loc[:,\"dockselection_processed_dic80_30_0\":\"warehouse_processed_dic80_30_0\"]=df_final.loc[:,\"dockselection_processed_dic80_30_0\":\"warehouse_processed_dic80_30_0\"]*2.5\n",
    "# df_final2.loc[:,\"cargo_at_taxilane_dic80_30_0\":\"cargo_at_warehouse_dic80_30_0\"]=df_final.loc[:,\"cargo_at_taxilane_dic80_30_0\":\"cargo_at_warehouse_dic80_30_0\"]*2.5\n",
    "\n",
    "# df_final2.loc[:,\"dockselection_processed_dic80_0_30\":\"warehouse_processed_dic80_0_30\"]=df_final.loc[:,\"dockselection_processed_dic80_0_30\":\"warehouse_processed_dic80_0_30\"]*2.5\n",
    "# df_final2.loc[:,\"cargo_at_taxilane_dic80_0_30\":\"cargo_at_warehouse_dic80_0_30\"]=df_final.loc[:,\"cargo_at_taxilane_dic80_0_30\":\"cargo_at_warehouse_dic80_0_30\"]*2.5\n",
    "\n",
    "# df_final2.loc[:,\"dockselection_processed_dic80_0_0\":\"warehouse_processed_dic80_0_0\"]=df_final.loc[:,\"dockselection_processed_dic80_0_0\":\"warehouse_processed_dic80_0_0\"]*2.5\n",
    "# df_final2.loc[:,\"cargo_at_taxilane_dic80_0_0\":\"cargo_at_warehouse_dic80_0_0\"]=df_final.loc[:,\"cargo_at_taxilane_dic80_0_0\":\"cargo_at_warehouse_dic80_0_0\"]*2.5"
   ]
  },
  {
   "cell_type": "code",
   "execution_count": null,
   "metadata": {},
   "outputs": [],
   "source": [
    "df_final2[1:5] "
   ]
  },
  {
   "cell_type": "code",
   "execution_count": null,
   "metadata": {},
   "outputs": [],
   "source": [
    "#processed\n",
    "plot_proc_dock=df_final2.plot(grid=True, fontsize = 35 , legend= False, x=\"Time\", y=['dockselection_processed_dic80_30_30','dockselection_processed_dic80_30_0', \"dockselection_processed_dic80_0_30\", \"dockselection_processed_dic80_0_0\"] ,  xticks=np.arange(0, 21, 2.0), figsize=(20,10))\n",
    "plot_proc_dock.set_xlabel(\"Day of simulation\", fontsize=35)\n",
    "plot_proc_dock.set_ylabel(\"Tons per hour\", fontsize=35)\n",
    "fig=plot_proc_dock.get_figure()\n",
    "fig.savefig(\"Results/Plots/\"+alternative+\"_processed_by_taxilane\", bbox_inches='tight')\n",
    "print(\"dockselection_processed_dic80_30_30 = \" + str(df_final2[\"dockselection_processed_dic80_30_30\"].sum(axis=0)))\n",
    "print(\"dockselection_processed_dic80_30_0 = \" + str(df_final2[\"dockselection_processed_dic80_30_0\"].sum(axis=0)))\n",
    "print(\"dockselection_processed_dic80_0_30 = \" + str(df_final2[\"dockselection_processed_dic80_0_30\"].sum(axis=0)))\n",
    "print(\"dockselection_processed_dic80_0_0 = \" + str(df_final2[\"dockselection_processed_dic80_0_0\"].sum(axis=0)))\n",
    "\n",
    "plot_proc_unload=df_final2.plot(grid=True, fontsize = 35, legend= False, x=\"Time\", y=['unloading_processed_dic80_30_30','unloading_processed_dic80_30_0', \"unloading_processed_dic80_0_30\", \"unloading_processed_dic80_0_0\"], xticks=np.arange(0, 21, 2.0), figsize=(20,10))\n",
    "plot_proc_unload.set_xlabel(\"Day of simulation\", fontsize=35)\n",
    "plot_proc_unload.set_ylabel(\"Tons per hour\", fontsize=35)\n",
    "fig=plot_proc_unload.get_figure()\n",
    "fig.savefig(\"Results/Plots/\"+alternative+\"_processed_at_unloading\", bbox_inches='tight')\n",
    "print(\"unloading_processed_dic80_30_30 = \" + str(df_final2[\"unloading_processed_dic80_30_30\"].sum(axis=0)))\n",
    "print(\"unloading_processed_dic80_30_0 = \" + str(df_final2[\"unloading_processed_dic80_30_0\"].sum(axis=0)))\n",
    "print(\"unloading_processed_dic80_0_30 = \" + str(df_final2[\"unloading_processed_dic80_0_30\"].sum(axis=0)))\n",
    "print(\"unloading_processed_dic80_0_0 = \" + str(df_final2[\"unloading_processed_dic80_0_0\"].sum(axis=0)))\n",
    "\n",
    "plot_proc_ware=df_final2.plot(grid=True, fontsize = 35, legend= False, x=\"Time\", y=['warehouse_processed_dic80_30_30','warehouse_processed_dic80_30_0', 'warehouse_processed_dic80_0_30', 'warehouse_processed_dic80_0_0'], xticks=np.arange(0, 21, 2.0), figsize=(20,10))\n",
    "plot_proc_ware.set_xlabel(\"Day of simulation\", fontsize=35)\n",
    "plot_proc_ware.set_ylabel(\"Tons per hour\", fontsize=35)\n",
    "fig=plot_proc_ware.get_figure()\n",
    "fig.savefig(\"Results/Plots/\"+alternative+\"_processed_at_warehouse\", bbox_inches='tight')\n",
    "print(\"warehouse_processed_dic80_30_30 = \" + str(df_final2[\"warehouse_processed_dic80_30_30\"].sum(axis=0)))\n",
    "print(\"warehouse_processed_dic80_30_0 = \" + str(df_final2[\"warehouse_processed_dic80_30_0\"].sum(axis=0)))\n",
    "print(\"warehouse_processed_dic80_0_30 = \" + str(df_final2[\"warehouse_processed_dic80_0_30\"].sum(axis=0)))\n",
    "print(\"warehouse_processed_dic80_0_0 = \" + str(df_final2[\"warehouse_processed_dic80_0_0\"].sum(axis=0)))"
   ]
  },
  {
   "cell_type": "code",
   "execution_count": null,
   "metadata": {},
   "outputs": [],
   "source": [
    "df_final2[\"warehouse_processed_dic80_30_30\"][226:288].idxmax()"
   ]
  },
  {
   "cell_type": "code",
   "execution_count": null,
   "metadata": {},
   "outputs": [],
   "source": [
    "df_final2[\"warehouse_processed_dic80_30_30\"][226:288].max()"
   ]
  },
  {
   "cell_type": "code",
   "execution_count": null,
   "metadata": {
    "scrolled": true
   },
   "outputs": [],
   "source": [
    "df_final2[\"warehouse_processed_dic80_30_30\"][219:220].mean()"
   ]
  },
  {
   "cell_type": "code",
   "execution_count": null,
   "metadata": {},
   "outputs": [],
   "source": [
    "df_final2[\"warehouse_processed_dic80_30_30\"][336:480].mean()"
   ]
  },
  {
   "cell_type": "code",
   "execution_count": null,
   "metadata": {
    "collapsed": true
   },
   "outputs": [],
   "source": [
    "f= open(\"Results/Plots/\"+alternative+\"_processed.txt\",\"w+\")\n",
    "f.write(\"dockselection_processed_dic80_30_30 = \" + str(df_final2[\"dockselection_processed_dic80_30_30\"].sum(axis=0))+\"\\n\")\n",
    "f.write(\"dockselection_processed_dic80_30_0 = \" + str(df_final2[\"dockselection_processed_dic80_30_0\"].sum(axis=0))+\"\\n\")\n",
    "f.write(\"dockselection_processed_dic80_0_30 = \" + str(df_final2[\"dockselection_processed_dic80_0_30\"].sum(axis=0))+\"\\n\")\n",
    "f.write(\"dockselection_processed_dic80_0_0 = \" + str(df_final2[\"dockselection_processed_dic80_0_0\"].sum(axis=0))+\"\\n\")\n",
    "        \n",
    "f.write(\"unloading_processed_dic80_30_30 = \" + str(df_final2[\"unloading_processed_dic80_30_30\"].sum(axis=0))+\"\\n\")\n",
    "f.write(\"unloading_processed_dic80_30_0 = \" + str(df_final2[\"unloading_processed_dic80_30_0\"].sum(axis=0))+\"\\n\")\n",
    "f.write(\"unloading_processed_dic80_0_30 = \" + str(df_final2[\"unloading_processed_dic80_0_30\"].sum(axis=0))+\"\\n\")\n",
    "f.write(\"unloading_processed_dic80_0_0 = \" + str(df_final2[\"unloading_processed_dic80_0_0\"].sum(axis=0))+\"\\n\")\n",
    "\n",
    "f.write(\"warehouse_processed_dic80_30_30 = \" + str(df_final2[\"warehouse_processed_dic80_30_30\"].sum(axis=0))+\"\\n\")\n",
    "f.write(\"warehouse_processed_dic80_30_0 = \" + str(df_final2[\"warehouse_processed_dic80_30_0\"].sum(axis=0))+\"\\n\")\n",
    "f.write(\"warehouse_processed_dic80_0_30 = \" + str(df_final2[\"warehouse_processed_dic80_0_30\"].sum(axis=0))+\"\\n\")\n",
    "f.write(\"warehouse_processed_dic80_0_0 = \" + str(df_final2[\"warehouse_processed_dic80_0_0\"].sum(axis=0))+\"\\n\")\n",
    "f.close()"
   ]
  },
  {
   "cell_type": "code",
   "execution_count": null,
   "metadata": {},
   "outputs": [],
   "source": [
    "#throughput times\n",
    "plot_time_dock=df_final2.plot(grid=True, fontsize = 35, legend= False, x=\"Time\", y=['Time_average_taxi_dic80_30_30','Time_average_taxi_dic80_30_0', 'Time_average_taxi_dic80_0_30', 'Time_average_taxi_dic80_0_0'], xticks=np.arange(0, 21, 2.0), figsize=(20,10))\n",
    "plot_time_dock.set_xlabel(\"Day of simulation\", fontsize=35)\n",
    "plot_time_dock.set_ylabel(\"Hours\", fontsize=35)\n",
    "fig=plot_time_dock.get_figure()\n",
    "fig.savefig(\"Results/Plots/\"+alternative+\"_taxi_time\", bbox_inches='tight')\n",
    "print(\"Time_average_taxi_dic80_30_30 = \" + str(df_final2[\"Time_average_taxi_dic80_30_30\"].mean(axis=0)))\n",
    "print(\"Time_average_taxi_dic80_30_0 = \" + str(df_final2[\"Time_average_taxi_dic80_30_0\"].mean(axis=0)))\n",
    "print(\"Time_average_taxi_dic80_0_30 = \" + str(df_final2[\"Time_average_taxi_dic80_0_30\"].mean(axis=0)))\n",
    "print(\"Time_average_taxi_dic80_0_0 = \" + str(df_final2[\"Time_average_taxi_dic80_0_0\"].mean(axis=0)))\n",
    "\n",
    "plot_time_unloading=df_final2.plot(grid=True, fontsize = 35, legend= False, x=\"Time\", y=['Time_average_unloading_dic80_30_30','Time_average_unloading_dic80_30_0', 'Time_average_unloading_dic80_0_30', 'Time_average_unloading_dic80_0_0'], xticks=np.arange(0, 21, 2.0), figsize=(20,10))\n",
    "plot_time_unloading.set_xlabel(\"Day of simulation\", fontsize=35)\n",
    "plot_time_unloading.set_ylabel(\"Hours\", fontsize=35)\n",
    "fig=plot_time_unloading.get_figure()\n",
    "fig.savefig(\"Results/Plots/\"+alternative+\"_unloading_time\", bbox_inches='tight')\n",
    "print(\"Time_average_unloading_dic80_30_30 = \" + str(df_final2[\"Time_average_unloading_dic80_30_30\"].mean(axis=0)))\n",
    "print(\"Time_average_unloading_dic80_30_0 = \" + str(df_final2[\"Time_average_unloading_dic80_0_30\"].mean(axis=0)))\n",
    "print(\"Time_average_unloading_dic80_0_30 = \" + str(df_final2[\"Time_average_unloading_dic80_0_30\"].mean(axis=0)))\n",
    "print(\"Time_average_unloading_dic80_0_0 = \" + str(df_final2[\"Time_average_unloading_dic80_0_0\"].mean(axis=0)))\n",
    "\n",
    "plot_time_warehouse=df_final2.plot(grid=True, fontsize = 35, legend= False, x=\"Time\", y=['Time_average_warehouse_dic80_30_30','Time_average_warehouse_dic80_30_0', 'Time_average_warehouse_dic80_0_30', 'Time_average_warehouse_dic80_0_0'], xticks=np.arange(0, 21, 2.0), figsize=(20,10))\n",
    "plot_time_warehouse.set_xlabel(\"Day of simulation\", fontsize=35)\n",
    "plot_time_warehouse.set_ylabel(\"Hours\", fontsize=35)\n",
    "fig=plot_time_warehouse.get_figure()\n",
    "fig.savefig(\"Results/Plots/\"+alternative+\"_warehouse_time\", bbox_inches='tight')\n",
    "print(\"Time_average_warehouse_dic80_30_30 = \" + str(df_final2[\"Time_average_warehouse_dic80_30_30\"].mean(axis=0)))\n",
    "print(\"Time_average_warehouse_dic80_30_0 = \" + str(df_final2[\"Time_average_warehouse_dic80_30_0\"].mean(axis=0)))\n",
    "print(\"Time_average_warehouse_dic80_0_30 = \" + str(df_final2[\"Time_average_warehouse_dic80_0_30\"].mean(axis=0)))\n",
    "print(\"Time_average_warehouse_dic80_0_0 = \" + str(df_final2[\"Time_average_warehouse_dic80_0_0\"].mean(axis=0)))"
   ]
  },
  {
   "cell_type": "code",
   "execution_count": null,
   "metadata": {},
   "outputs": [],
   "source": [
    "#throughput total\n",
    "plot_time_total=df_final2.plot(grid=True, fontsize = 35, legend= False, x=\"Time\", y=['average_TIS_dic80_30_30','average_TIS_dic80_30_0', \"average_TIS_dic80_0_30\", \"average_TIS_dic80_0_0\" ], xticks=np.arange(0, 21, 2.0), figsize=(20,10))\n",
    "plot_time_total.set_xlabel(\"Day of simulation\", fontsize=35)\n",
    "plot_time_total.set_ylabel(\"Hours\", fontsize=35)\n",
    "fig=plot_time_total.get_figure()\n",
    "fig.savefig(\"Results/Plots/\"+alternative+\"_average_TIS\", bbox_inches='tight')\n",
    "print(\"average_TIS_dic80_30_30 = \" + str(df_final2[\"average_TIS_dic80_30_30\"].mean(axis=0)))\n",
    "print(\"average_TIS_dic80_30_0 = \" + str(df_final2[\"average_TIS_dic80_30_0\"].mean(axis=0)))\n",
    "print(\"average_TIS_dic80_0_30 = \" + str(df_final2[\"average_TIS_dic80_0_30\"].mean(axis=0)))\n",
    "print(\"average_TIS_dic80_0_0 = \" + str(df_final2[\"average_TIS_dic80_0_0\"].mean(axis=0)))"
   ]
  },
  {
   "cell_type": "code",
   "execution_count": null,
   "metadata": {
    "collapsed": true
   },
   "outputs": [],
   "source": [
    "f= open(\"Results/Plots/\"+alternative+\"Time.txt\",\"w+\")\n",
    "f.write(\"Time_average_taxi_dic80_30_30 = \" + str(df_final2[\"Time_average_taxi_dic80_30_30\"].mean(axis=0))+\"\\n\")\n",
    "f.write(\"Time_average_taxi_dic80_30_0 = \" + str(df_final2[\"Time_average_taxi_dic80_30_0\"].mean(axis=0))+\"\\n\")\n",
    "f.write(\"Time_average_taxi_dic80_0_30 = \" + str(df_final2[\"Time_average_taxi_dic80_0_30\"].mean(axis=0))+\"\\n\")\n",
    "f.write(\"Time_average_taxi_dic80_0_0 = \" + str(df_final2[\"Time_average_taxi_dic80_0_0\"].mean(axis=0))+\"\\n\")\n",
    "        \n",
    "f.write(\"Time_average_unloading_dic80_30_30 = \" + str(df_final2[\"Time_average_unloading_dic80_30_30\"].mean(axis=0))+\"\\n\")\n",
    "f.write(\"Time_average_unloading_dic80_30_0 = \" + str(df_final2[\"Time_average_unloading_dic80_0_30\"].mean(axis=0))+\"\\n\")\n",
    "f.write(\"Time_average_unloading_dic80_0_30 = \" + str(df_final2[\"Time_average_unloading_dic80_0_30\"].mean(axis=0))+\"\\n\")\n",
    "f.write(\"Time_average_unloading_dic80_0_0 = \" + str(df_final2[\"Time_average_unloading_dic80_0_0\"].mean(axis=0))+\"\\n\")\n",
    "\n",
    "f.write(\"Time_average_warehouse_dic80_30_30 = \" + str(df_final2[\"Time_average_warehouse_dic80_30_30\"].mean(axis=0))+\"\\n\")\n",
    "f.write(\"Time_average_warehouse_dic80_30_0 = \" + str(df_final2[\"Time_average_warehouse_dic80_30_0\"].mean(axis=0))+\"\\n\")\n",
    "f.write(\"Time_average_warehouse_dic80_0_30 = \" + str(df_final2[\"Time_average_warehouse_dic80_0_30\"].mean(axis=0))+\"\\n\")\n",
    "f.write(\"Time_average_warehouse_dic80_0_0 = \" + str(df_final2[\"Time_average_warehouse_dic80_0_0\"].mean(axis=0))+\"\\n\")\n",
    "\n",
    "f.write(\"average_TIS_dic80_30_30 = \" + str(df_final2[\"average_TIS_dic80_30_30\"].mean(axis=0))+\"\\n\")\n",
    "f.write(\"average_TIS_dic80_30_0 = \" + str(df_final2[\"average_TIS_dic80_30_0\"].mean(axis=0))+\"\\n\")\n",
    "f.write(\"average_TIS_dic80_0_30 = \" + str(df_final2[\"average_TIS_dic80_0_30\"].mean(axis=0))+\"\\n\")\n",
    "f.write(\"average_TIS_dic80_0_0 = \" + str(df_final2[\"average_TIS_dic80_0_0\"].mean(axis=0))+\"\\n\")\n",
    "f.close()"
   ]
  },
  {
   "cell_type": "code",
   "execution_count": null,
   "metadata": {},
   "outputs": [],
   "source": [
    "#df_final2[\"average_TIS_dic80_30_30\"][400:480].mean()\n",
    "df_final2[\"average_TIS_dic80_30_30\"].idxmax()\n",
    "#df_final2[\"average_TIS_dic80_30_30\"].max()"
   ]
  },
  {
   "cell_type": "code",
   "execution_count": null,
   "metadata": {},
   "outputs": [],
   "source": [
    "#idle\n",
    "\n",
    "plot_idle_dock=df_final2.plot(grid=True, fontsize = 35, legend= False, x=\"Time\", y=['cargo_at_taxilane_dic80_30_30','cargo_at_taxilane_dic80_30_0', \"cargo_at_taxilane_dic80_0_30\", \"cargo_at_taxilane_dic80_0_0\"], xticks=np.arange(0, 21, 2.0), figsize=(20,10))\n",
    "plot_idle_dock.set_xlabel(\"Day of simulation\", fontsize=35)\n",
    "plot_idle_dock.set_ylabel(\"Tons\", fontsize=35)\n",
    "fig=plot_idle_dock.get_figure()\n",
    "fig.savefig(\"Results/Plots/\"+alternative+\"_idle_at_taxilane\", bbox_inches='tight')\n",
    "print(\"cargo_at_taxilane_dic80_30_30 = \" + str(df_final2[\"cargo_at_taxilane_dic80_30_30\"].mean(axis=0)))\n",
    "print(\"cargo_at_taxilane_dic80_30_0 = \" + str(df_final2[\"cargo_at_taxilane_dic80_30_0\"].mean(axis=0)))\n",
    "print(\"cargo_at_taxilane_dic80_0_30 = \" + str(df_final2[\"cargo_at_taxilane_dic80_0_30\"].mean(axis=0)))\n",
    "print(\"cargo_at_taxilane_dic80_0_0 = \" + str(df_final2[\"cargo_at_taxilane_dic80_0_0\"].mean(axis=0)))\n",
    "\n",
    "plot_idle_unloading=df_final2.plot(grid=True, fontsize = 35, legend= False, x=\"Time\", y=['cargo_at_dolly_unloading_dic80_30_30','cargo_at_dolly_unloading_dic80_30_0', 'cargo_at_dolly_unloading_dic80_0_30', 'cargo_at_dolly_unloading_dic80_0_0'], xticks=np.arange(0, 21, 2.0), figsize=(20,10))\n",
    "plot_idle_unloading.set_xlabel(\"Day of simulation\", fontsize=35)\n",
    "plot_idle_unloading.set_ylabel(\"Tons\", fontsize=35)\n",
    "fig=plot_idle_unloading.get_figure()\n",
    "fig.savefig(\"Results/Plots/\"+alternative+\"_idle_at_unloading\", bbox_inches='tight')\n",
    "print(\"cargo_at_dolly_unloading_dic80_30_30 = \" + str(df_final2[\"cargo_at_dolly_unloading_dic80_30_30\"].mean(axis=0)))\n",
    "print(\"cargo_at_dolly_unloading_dic80_30_0 = \" + str(df_final2[\"cargo_at_dolly_unloading_dic80_30_0\"].mean(axis=0)))\n",
    "print(\"cargo_at_dolly_unloading_dic80_0_30 = \" + str(df_final2[\"cargo_at_dolly_unloading_dic80_0_30\"].mean(axis=0)))\n",
    "print(\"cargo_at_dolly_unloading_dic80_0_0 = \" + str(df_final2[\"cargo_at_dolly_unloading_dic80_0_0\"].mean(axis=0)))\n",
    "\n",
    "plot_idle_warehouse=df_final2.plot(grid=True, fontsize = 35, legend= False, x=\"Time\", y=['cargo_at_warehouse_dic80_30_30','cargo_at_warehouse_dic80_30_0', 'cargo_at_warehouse_dic80_0_30', 'cargo_at_warehouse_dic80_0_0'], xticks=np.arange(0, 21, 2.0), figsize=(20,10))\n",
    "plot_idle_warehouse.set_xlabel(\"Day of simulation\", fontsize=35)\n",
    "plot_idle_warehouse.set_ylabel(\"Tons\", fontsize=35)\n",
    "fig=plot_idle_warehouse.get_figure()\n",
    "fig.savefig(\"Results/Plots/\"+alternative+\"_idle_at_warehouse\", bbox_inches='tight')\n",
    "print(\"cargo_at_warehouse_dic80_30_30 = \" + str(df_final2[\"cargo_at_warehouse_dic80_30_30\"].mean(axis=0)))\n",
    "print(\"cargo_at_warehouse_dic80_30_0 = \" + str(df_final2[\"cargo_at_warehouse_dic80_30_0\"].mean(axis=0)))\n",
    "print(\"cargo_at_warehouse_dic80_0_30 = \" + str(df_final2[\"cargo_at_warehouse_dic80_0_30\"].mean(axis=0)))\n",
    "print(\"cargo_at_warehouse_dic80_0_0 = \" + str(df_final2[\"cargo_at_warehouse_dic80_0_0\"].mean(axis=0)))"
   ]
  },
  {
   "cell_type": "code",
   "execution_count": null,
   "metadata": {},
   "outputs": [],
   "source": [
    "#df_final2[\"cargo_at_taxilane_dic80_30_30\"][384:480].mean()\n",
    "df_final2[\"cargo_at_warehouse_dic80_30_30\"][1:480].max()"
   ]
  },
  {
   "cell_type": "code",
   "execution_count": null,
   "metadata": {},
   "outputs": [],
   "source": [
    "#total idle\n",
    "df_total_idle=pd.DataFrame()\n",
    "df_total_idle[\"Time_dic80_30_30\"]=df_final2[\"Time_dic80_30_30\"]\n",
    "df_total_idle[\"Time\"]=df_final2['Time_dic80_30_30']/24\n",
    "\n",
    "df_total_idle[\"total_idle80_30_30\"]=df_final2[\"cargo_at_taxilane_dic80_30_30\"]+df_final2[\"cargo_at_dolly_unloading_dic80_30_30\"]+df_final2[\"cargo_at_warehouse_dic80_30_30\"]\n",
    "df_total_idle[\"total_idle80_30_0\"]=df_final2[\"cargo_at_taxilane_dic80_30_0\"]+df_final2[\"cargo_at_dolly_unloading_dic80_30_0\"]+df_final2[\"cargo_at_warehouse_dic80_30_0\"]\n",
    "df_total_idle[\"total_idle80_0_30\"]=df_final2[\"cargo_at_taxilane_dic80_0_30\"]+df_final2[\"cargo_at_dolly_unloading_dic80_0_30\"]+df_final2[\"cargo_at_warehouse_dic80_0_30\"]\n",
    "df_total_idle[\"total_idle80_0_0\"]=df_final2[\"cargo_at_taxilane_dic80_0_0\"]+df_final2[\"cargo_at_dolly_unloading_dic80_0_0\"]+df_final2[\"cargo_at_warehouse_dic80_0_0\"]\n",
    "\n",
    "plot_idle_total=df_total_idle.plot(grid=True, fontsize = 35, legend= False, x=\"Time\", y=['total_idle80_30_30','total_idle80_30_0', 'total_idle80_0_30', 'total_idle80_0_0'], xticks=np.arange(0, 21, 2), figsize=(20,10))\n",
    "plot_idle_total.set_xlabel(\"Day of simulation\", fontsize=35)\n",
    "plot_idle_total.set_ylabel(\"Tons\", fontsize=35)\n",
    "fig=plot_idle_total.get_figure()\n",
    "fig.savefig(\"Results/Plots/\"+alternative+\"_idle_total\", bbox_inches='tight')\n",
    "print(\"total_idle80_30_30 = \" + str(df_total_idle[\"total_idle80_30_30\"].mean(axis=0)))\n",
    "print(\"total_idle80_30_0 = \" + str(df_total_idle[\"total_idle80_30_0\"].mean(axis=0)))\n",
    "print(\"total_idle80_0_30 = \" + str(df_total_idle[\"total_idle80_0_30\"].mean(axis=0)))\n",
    "print(\"total_idle80_0_0 = \" + str(df_total_idle[\"total_idle80_0_0\"].mean(axis=0)))"
   ]
  },
  {
   "cell_type": "code",
   "execution_count": null,
   "metadata": {},
   "outputs": [],
   "source": [
    "df_total_idle[\"total_idle80_30_30\"][432:480].mean()\n",
    "#df_total_idle[\"total_idle80_30_30\"].idxmax()\n",
    "#df_total_idle[\"total_idle80_30_30\"].max()"
   ]
  },
  {
   "cell_type": "code",
   "execution_count": null,
   "metadata": {
    "collapsed": true
   },
   "outputs": [],
   "source": [
    "f= open(\"Results/Plots/\"+alternative+\"idle.txt\",\"w+\")\n",
    "f.write(\"cargo_at_taxilane_dic80_30_30 = \" + str(df_final2[\"cargo_at_taxilane_dic80_30_30\"].mean(axis=0))+\"\\n\")\n",
    "f.write(\"cargo_at_taxilane_dic80_30_0 = \" + str(df_final2[\"cargo_at_taxilane_dic80_30_0\"].mean(axis=0))+\"\\n\")\n",
    "f.write(\"cargo_at_taxilane_dic80_0_30 = \" + str(df_final2[\"cargo_at_taxilane_dic80_0_30\"].mean(axis=0))+\"\\n\")\n",
    "f.write(\"cargo_at_taxilane_dic80_0_0 = \" + str(df_final2[\"cargo_at_taxilane_dic80_0_0\"].mean(axis=0))+\"\\n\")\n",
    "        \n",
    "f.write(\"cargo_at_dolly_unloading_dic80_30_30 = \" + str(df_final2[\"cargo_at_dolly_unloading_dic80_30_30\"].mean(axis=0))+\"\\n\")\n",
    "f.write(\"cargo_at_dolly_unloading_dic80_30_0 = \" + str(df_final2[\"cargo_at_dolly_unloading_dic80_30_0\"].mean(axis=0))+\"\\n\")\n",
    "f.write(\"cargo_at_dolly_unloading_dic80_0_30 = \" + str(df_final2[\"cargo_at_dolly_unloading_dic80_0_30\"].mean(axis=0))+\"\\n\")\n",
    "f.write(\"cargo_at_dolly_unloading_dic80_0_0 = \" + str(df_final2[\"cargo_at_dolly_unloading_dic80_0_0\"].mean(axis=0))+\"\\n\")\n",
    "\n",
    "f.write(\"cargo_at_warehouse_dic80_30_30 = \" + str(df_final2[\"cargo_at_warehouse_dic80_30_30\"].mean(axis=0))+\"\\n\")\n",
    "f.write(\"cargo_at_warehouse_dic80_30_0 = \" + str(df_final2[\"cargo_at_warehouse_dic80_30_0\"].mean(axis=0))+\"\\n\")\n",
    "f.write(\"cargo_at_warehouse_dic80_0_30 = \" + str(df_final2[\"cargo_at_warehouse_dic80_0_30\"].mean(axis=0))+\"\\n\")\n",
    "f.write(\"cargo_at_warehouse_dic80_0_0 = \" + str(df_final2[\"cargo_at_warehouse_dic80_0_0\"].mean(axis=0))+\"\\n\")\n",
    "\n",
    "f.write(\"total_idle80_30_30 = \" + str(df_total_idle[\"total_idle80_30_30\"].mean(axis=0))+\"\\n\")\n",
    "f.write(\"total_idle80_30_0 = \" + str(df_total_idle[\"total_idle80_30_0\"].mean(axis=0))+\"\\n\")\n",
    "f.write(\"total_idle80_0_30 = \" + str(df_total_idle[\"total_idle80_0_30\"].mean(axis=0))+\"\\n\")\n",
    "f.write(\"total_idle80_0_0 = \" + str(df_total_idle[\"total_idle80_0_0\"].mean(axis=0))+\"\\n\")\n",
    "f.close()"
   ]
  },
  {
   "cell_type": "code",
   "execution_count": null,
   "metadata": {
    "scrolled": true
   },
   "outputs": [],
   "source": [
    "print(\"DONE\")"
   ]
  },
  {
   "cell_type": "code",
   "execution_count": null,
   "metadata": {
    "collapsed": true
   },
   "outputs": [],
   "source": []
  },
  {
   "cell_type": "code",
   "execution_count": null,
   "metadata": {
    "collapsed": true
   },
   "outputs": [],
   "source": []
  },
  {
   "cell_type": "code",
   "execution_count": null,
   "metadata": {
    "collapsed": true
   },
   "outputs": [],
   "source": []
  }
 ],
 "metadata": {
  "kernelspec": {
   "display_name": "Python 3",
   "language": "python",
   "name": "python3"
  },
  "language_info": {
   "codemirror_mode": {
    "name": "ipython",
    "version": 3
   },
   "file_extension": ".py",
   "mimetype": "text/x-python",
   "name": "python",
   "nbconvert_exporter": "python",
   "pygments_lexer": "ipython3",
   "version": "3.6.1"
  }
 },
 "nbformat": 4,
 "nbformat_minor": 2
}
